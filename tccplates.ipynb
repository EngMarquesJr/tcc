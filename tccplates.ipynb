{
 "cells": [
  {
   "cell_type": "code",
   "execution_count": 35,
   "id": "ade48c30",
   "metadata": {},
   "outputs": [],
   "source": [
    "import sympy as sp\n",
    "import numpy as np\n",
    "import matplotlib.pyplot as plt\n",
    "\n",
    "# Símbolos\n",
    "a, q, D, b = sp.symbols('a q D b')\n",
    "m = sp.symbols('m', integer=True)\n",
    "\n",
    "# Define alpha_m\n",
    "alpha = (m * sp.pi * b) / (2 * a)\n",
    "\n",
    "# Termo da série\n",
    "sign = (-1)**((m - 1)//2)\n",
    "term1 = 1 / m**5\n",
    "term2 = alpha * sp.tanh(alpha) / sp.cosh(alpha)\n",
    "numerator = alpha - sp.tanh(alpha) * (1 + alpha * sp.tanh(alpha))\n",
    "denominator = alpha - sp.tanh(alpha) * (alpha * sp.tanh(alpha) - 1)\n",
    "term3 = numerator / denominator\n",
    "\n",
    "summand = sign * term1 * term2 * term3\n",
    "\n",
    "# Valores de lambda\n",
    "lambda_vals = np.linspace(0.5, 2.0, 10)\n",
    "w_normalized = []\n",
    "\n",
    "# Loop para cada lambda\n",
    "for λ in lambda_vals:\n",
    "    summand_l = summand.subs(b, λ * a)\n",
    "    partial_sum = sum(summand_l.subs(m, mi) for mi in [1, 3, 5, 7, 9])\n",
    "    num_val = partial_sum.evalf()\n",
    "\n",
    "    # Cálculo da deflexão\n",
    "    w = (5 / 384 - (2 / sp.pi) * num_val) * (q * a**4 / D)\n",
    "    w_norm = w.evalf() * D / (a**4 * q)\n",
    "    w_normalized.append(w_norm) #finalmente, armazena o valor normalizado\n"
   ]
  },
  {
   "cell_type": "code",
   "execution_count": 36,
   "id": "32c96154",
   "metadata": {},
   "outputs": [
    {
     "data": {
      "text/plain": [
       "[0.0587900768903885,\n",
       " 0.114005233090475,\n",
       " 0.173965531316230,\n",
       " 0.221984244378667,\n",
       " 0.249394258810744,\n",
       " 0.256013005890222,\n",
       " 0.246566308730513,\n",
       " 0.227054980700317,\n",
       " 0.202653973548638,\n",
       " 0.177024595141214]"
      ]
     },
     "execution_count": 36,
     "metadata": {},
     "output_type": "execute_result"
    }
   ],
   "source": [
    "w_normalized"
   ]
  }
 ],
 "metadata": {
  "kernelspec": {
   "display_name": ".venv",
   "language": "python",
   "name": "python3"
  },
  "language_info": {
   "codemirror_mode": {
    "name": "ipython",
    "version": 3
   },
   "file_extension": ".py",
   "mimetype": "text/x-python",
   "name": "python",
   "nbconvert_exporter": "python",
   "pygments_lexer": "ipython3",
   "version": "3.13.7"
  }
 },
 "nbformat": 4,
 "nbformat_minor": 5
}
